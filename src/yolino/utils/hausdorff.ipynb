{
 "cells": [
  {
   "cell_type": "code",
   "execution_count": 47,
   "metadata": {
    "collapsed": true
   },
   "outputs": [],
   "source": [
    "import torch\n",
    "import matplotlib.pyplot as plt"
   ]
  },
  {
   "cell_type": "code",
   "execution_count": 48,
   "outputs": [],
   "source": [
    "straight = torch.tensor([4.,0])\n",
    "norm_straight = torch.linalg.norm(straight)\n",
    "\n",
    "diag = torch.tensor([5,5.])\n",
    "norm_diag = torch.linalg.norm(diag)"
   ],
   "metadata": {
    "collapsed": false,
    "pycharm": {
     "name": "#%%\n"
    }
   }
  },
  {
   "cell_type": "code",
   "execution_count": 49,
   "outputs": [
    {
     "data": {
      "text/plain": "<Figure size 432x288 with 1 Axes>",
      "image/png": "[encoded data removed]"
     },
     "metadata": {
      "needs_background": "light"
     },
     "output_type": "display_data"
    }
   ],
   "source": [
    "plt.plot([0, straight[0]], [0, straight[1]])\n",
    "plt.plot([0, diag[0]], [0, diag[1]])\n",
    "plt.show()"
   ],
   "metadata": {
    "collapsed": false,
    "pycharm": {
     "name": "#%%\n"
    }
   }
  },
  {
   "cell_type": "code",
   "execution_count": 57,
   "outputs": [
    {
     "name": "stdout",
     "output_type": "stream",
     "text": [
      "Done\n"
     ]
    }
   ],
   "source": [
    "import numpy as np\n",
    "for i in range(1000):\n",
    "    straight = torch.randn((2), dtype=torch.float)\n",
    "    norm_straight = torch.linalg.norm(straight)\n",
    "\n",
    "    diag = torch.randn((2), dtype=torch.float)\n",
    "    norm_diag = torch.linalg.norm(diag)\n",
    "\n",
    "    dot1 = torch.dot(diag, straight) / norm_straight\n",
    "    dot2 = torch.dot(straight, diag) / norm_diag\n",
    "    # print(dot1, dot2)\n",
    "\n",
    "    offset_diag = norm_diag - dot2\n",
    "    offset_straight= norm_straight - dot1\n",
    "    # print(offset_straight, offset_diag)\n",
    "\n",
    "    if not np.argmin([offset_diag, offset_straight]) == np.argmin([norm_diag, norm_straight]):\n",
    "        raise ValueError(\"%s vs %s\" % (diag, straight))\n",
    "\n",
    "print(\"Done\")"
   ],
   "metadata": {
    "collapsed": false,
    "pycharm": {
     "name": "#%%\n"
    }
   }
  },
  {
   "cell_type": "code",
   "execution_count": 66,
   "outputs": [
    {
     "data": {
      "text/plain": "<Figure size 432x288 with 1 Axes>",
      "image/png": "[encoded data removed]"
     },
     "metadata": {
      "needs_background": "light"
     },
     "output_type": "display_data"
    },
    {
     "name": "stdout",
     "output_type": "stream",
     "text": [
      "tensor(1.) tensor(5.)\n"
     ]
    }
   ],
   "source": [
    "import math\n",
    "\n",
    "straight = torch.tensor([4.,0])\n",
    "norm_straight = torch.linalg.norm(straight)\n",
    "x2 = straight[0]\n",
    "y2 = straight[1]\n",
    "x1 = y1 = 0\n",
    "\n",
    "diag = torch.tensor([5,5.])\n",
    "norm_diag = torch.linalg.norm(diag)\n",
    "x0 = diag[0]\n",
    "y0 = diag[1]\n",
    "\n",
    "plt.plot([0, straight[0]], [0, straight[1]])\n",
    "plt.plot([1, diag[0]], [1, diag[1]])\n",
    "plt.show()\n",
    "\n",
    "le = abs((x2-x1)*(y1-y0)-(x1-x0)*(y2-y1))/math.sqrt(math.pow(x2-x1,2) + math.pow(y2-y1,2))\n",
    "x0 = 1\n",
    "y0 = 1\n",
    "ls = abs((x2-x1)*(y1-y0)-(x1-x0)*(y2-y1))/math.sqrt(math.pow(x2-x1,2) + math.pow(y2-y1,2))\n",
    "print(ls, le)"
   ],
   "metadata": {
    "collapsed": false,
    "pycharm": {
     "name": "#%%\n"
    }
   }
  },
  {
   "cell_type": "code",
   "execution_count": 65,
   "outputs": [
    {
     "data": {
      "text/plain": "<Figure size 432x288 with 1 Axes>",
      "image/png": "[encoded data removed]"
     },
     "metadata": {
      "needs_background": "light"
     },
     "output_type": "display_data"
    },
    {
     "name": "stdout",
     "output_type": "stream",
     "text": [
      "tensor(0.) tensor(2.8284)\n"
     ]
    }
   ],
   "source": [
    "import math\n",
    "\n",
    "straight = torch.tensor([4.,0])\n",
    "norm_straight = torch.linalg.norm(straight)\n",
    "\n",
    "x0 = straight[0]\n",
    "y0 = straight[1]\n",
    "\n",
    "diag = torch.tensor([5,5.])\n",
    "norm_diag = torch.linalg.norm(diag)\n",
    "x2 = diag[0]\n",
    "y2 = diag[1]\n",
    "x1 = y1 = 0\n",
    "\n",
    "plt.plot([0, straight[0]], [0, straight[1]])\n",
    "plt.plot([1, diag[0]], [1, diag[1]])\n",
    "plt.show()\n",
    "\n",
    "le = abs((x2-x1)*(y1-y0)-(x1-x0)*(y2-y1))/math.sqrt(math.pow(x2-x1,2) + math.pow(y2-y1,2))\n",
    "x0 = 1\n",
    "y0 = 1\n",
    "ls = abs((x2-x1)*(y1-y0)-(x1-x0)*(y2-y1))/math.sqrt(math.pow(x2-x1,2) + math.pow(y2-y1,2))\n",
    "print(ls, le)"
   ],
   "metadata": {
    "collapsed": false,
    "pycharm": {
     "name": "#%%\n"
    }
   }
  }
 ],
 "metadata": {
  "kernelspec": {
   "display_name": "Python 3",
   "language": "python",
   "name": "python3"
  },
  "language_info": {
   "codemirror_mode": {
    "name": "ipython",
    "version": 2
   },
   "file_extension": ".py",
   "mimetype": "text/x-python",
   "name": "python",
   "nbconvert_exporter": "python",
   "pygments_lexer": "ipython2",
   "version": "2.7.6"
  }
 },
 "nbformat": 4,
 "nbformat_minor": 0
}